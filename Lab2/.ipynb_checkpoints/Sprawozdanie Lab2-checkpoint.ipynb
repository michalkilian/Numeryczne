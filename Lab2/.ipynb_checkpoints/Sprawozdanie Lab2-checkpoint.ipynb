{
 "cells": [
  {
   "cell_type": "markdown",
   "metadata": {},
   "source": [
    "# Sprawozdanie Lab2"
   ]
  },
  {
   "cell_type": "code",
   "execution_count": 1,
   "metadata": {},
   "outputs": [],
   "source": [
    "import math\n",
    "import matplotlib.pyplot as plt\n",
    "from mpmath import nsum, exp, inf"
   ]
  },
  {
   "cell_type": "markdown",
   "metadata": {},
   "source": [
    "### Zadanie 1"
   ]
  },
  {
   "cell_type": "code",
   "execution_count": 2,
   "metadata": {},
   "outputs": [],
   "source": [
    "p1 = math.pi\n",
    "p_prim1 = 22/7\n",
    "\n",
    "p2 = math.e\n",
    "p_prim2 = 2.718\n",
    "\n",
    "p3 = 10**math.pi\n",
    "p_prim3 = 1397\n",
    "\n",
    "p4 = math.factorial(9)\n",
    "p_prim4 = math.sqrt(18*math.pi)*(9/math.e)**9"
   ]
  },
  {
   "cell_type": "code",
   "execution_count": 3,
   "metadata": {},
   "outputs": [
    {
     "name": "stdout",
     "output_type": "stream",
     "text": [
      "1\n",
      "Błąd Bezwzględny: 0.0012644892673496777\n",
      "Błąd Względny: 0.04024994347707008%\n",
      "2\n",
      "Błąd Bezwzględny: 0.0002818284590451192\n",
      "Błąd Względny: 0.010367889601972718%\n",
      "3\n",
      "Błąd Bezwzględny: 11.544268632989315\n",
      "Błąd Względny: 0.8332470227394951%\n",
      "4\n",
      "Błąd Bezwzględny: 3343.1271580516477\n",
      "Błąd Względny: 0.9212762230080598%\n"
     ]
    }
   ],
   "source": [
    "print(\"1\", \"Błąd Bezwzględny: \", sep='\\n', end = '')\n",
    "print(abs(p_prim1 - p1))\n",
    "print(\"Błąd Względny: \", abs((p_prim1-p1)/p1)*100, '%', sep='')\n",
    "\n",
    "print(\"2\", \"Błąd Bezwzględny: \", sep='\\n', end = '')\n",
    "print(abs(p_prim2 - p2))\n",
    "print(\"Błąd Względny: \", abs((p_prim2-p2)/p2)*100, '%', sep='')\n",
    "\n",
    "print(\"3\", \"Błąd Bezwzględny: \", sep='\\n', end = '')\n",
    "print(abs(p_prim3 - p3))\n",
    "print(\"Błąd Względny: \", abs((p_prim3-p3)/p3)*100, '%', sep='')\n",
    "\n",
    "print(\"4\", \"Błąd Bezwzględny: \", sep='\\n', end = '')\n",
    "print(abs(p_prim4 - p4))\n",
    "print(\"Błąd Względny: \", abs((p_prim4-p4)/p4)*100, '%', sep='')"
   ]
  },
  {
   "cell_type": "markdown",
   "metadata": {},
   "source": [
    "### Zadanie 2"
   ]
  },
  {
   "cell_type": "code",
   "execution_count": 5,
   "metadata": {},
   "outputs": [],
   "source": [
    "Gp = lambda p: (1/p)*(10**p*(1+p*round(math.pi,15)*10**(-p))-10**p)"
   ]
  },
  {
   "cell_type": "code",
   "execution_count": 6,
   "metadata": {},
   "outputs": [],
   "source": [
    "def gpfunction(n):\n",
    "    return [Gp(x) for x in range(1,n+1)]\n",
    "\n",
    "gp_vector = gpfunction(17)"
   ]
  },
  {
   "cell_type": "code",
   "execution_count": 7,
   "metadata": {},
   "outputs": [
    {
     "name": "stdout",
     "output_type": "stream",
     "text": [
      "[0.0, 1.1308638867425838e-13, 8.622837136412201e-13, 1.0517034146706028e-11, 2.2108388985817513e-11, 1.6318365885695483e-10, 4.6011741675867195e-09, 3.868798442935053e-09, 2.530538218745469e-07, 4.300573343223663e-06, 2.550388849290044e-05, 0.00028357941939748576, 0.002107570566952591, 0.004724286536908809, 0.0023559094075713215, 3.4507130097319725, 10.12426743045911]\n",
      "[0.0, 3.552713678800501e-15, 2.708944180085382e-14, 3.304023721284466e-13, 6.945555242054979e-13, 5.126565838509123e-12, 1.4455014962777568e-10, 1.2154188766544394e-10, 7.949920277638967e-09, 1.3510649621295556e-07, 8.012282872726928e-07, 8.908910206884002e-06, 6.621128210060334e-05, 0.0001484178387780588, 7.401307687349146e-05, 0.10840734641020688, 0.3180632418250875]\n"
     ]
    }
   ],
   "source": [
    "absolute_error = [abs(gp_vector[x] - math.pi) for x in range(len(gp_vector))]\n",
    "relative_error = [abs(absolute_error[x] / math.pi)*100 for x in range(len(absolute_error))]\n",
    "\n",
    "print(relative_error, absolute_error, sep='\\n')"
   ]
  },
  {
   "cell_type": "markdown",
   "metadata": {},
   "source": [
    "#### Wartość G(p) nie zależy w sposób analityczny od p, po obliczeniu wartości G(p) otrzymujemy π"
   ]
  },
  {
   "cell_type": "code",
   "execution_count": 9,
   "metadata": {},
   "outputs": [
    {
     "data": {
      "image/png": "[encoded data removed]",
      "text/plain": [
       "<Figure size 432x288 with 1 Axes>"
      ]
     },
     "metadata": {},
     "output_type": "display_data"
    }
   ],
   "source": [
    "plt.semilogy(range(0,17), absolute_error, label=\"Błąd bezwględny\")\n",
    "plt.semilogy(range(0,17), relative_error, label=\"Błąd względny [%]\")\n",
    "plt.xlabel(\"n\")\n",
    "plt.legend()\n",
    "plt.show()"
   ]
  },
  {
   "cell_type": "markdown",
   "metadata": {},
   "source": [
    "#### Niemal każdy kolejny wyraz ciągu jest mniej dokładny od poprzedniego, co pokazuje że zmniejszając wartości ułamków nie posiadających dokładnej reprezentacji 1/p i 10^(-p) stają się mniej dokładne co wpływa na końcowy wynik obliczeń"
   ]
  },
  {
   "cell_type": "markdown",
   "metadata": {},
   "source": [
    "#### Występuje tutaj błąd reprezentacji"
   ]
  },
  {
   "cell_type": "markdown",
   "metadata": {},
   "source": [
    "### Zadanie 3"
   ]
  },
  {
   "cell_type": "code",
   "execution_count": 12,
   "metadata": {},
   "outputs": [],
   "source": [
    "def esum(x):\n",
    "    return (1/math.factorial(x))"
   ]
  },
  {
   "cell_type": "code",
   "execution_count": 13,
   "metadata": {},
   "outputs": [
    {
     "name": "stdout",
     "output_type": "stream",
     "text": [
      "1\n",
      "Błąd Bezwzględny: 0.0016151617923787498\n",
      "Błąd Względny: 0.05941848175817597%\n",
      "\n",
      "1 odwrócone\n",
      "Błąd Bezwzględny: 0.0002262729034896438\n",
      "Błąd Względny: 0.008324114928800986%\n",
      "\n",
      "2\n",
      "Błąd Bezwzględny: 2.7312660577649694e-08\n",
      "Błąd Względny: 1.0047766310211052e-06%\n",
      "\n",
      "2 odwrócone\n",
      "Błąd Bezwzględny: 2.260552189881082e-09\n",
      "Błąd Względny: 8.316106763523326e-08%\n",
      "\n",
      "3\n",
      "Błąd Bezwzględny: 4.440892098500626e-16\n",
      "Błąd Względny: 1.6337129034990843e-14%\n",
      "\n",
      "3 odwrócone\n",
      "Błąd Bezwzględny: 0.0\n",
      "Błąd Względny: 0.0%\n",
      "\n"
     ]
    }
   ],
   "source": [
    "e = math.e\n",
    "e_prim1 = sum([esum(x) for x in range(0, 6)])\n",
    "e_prim1_reverted = sum([esum(x) for x in range(6,-1, -1)])\n",
    "\n",
    "e_prim2 = sum([esum(x) for x in range(0, 11)])\n",
    "e_prim2_reverted = sum([esum(x) for x in range(11, -1, -1)])\n",
    "\n",
    "e_prim3 = sum([esum(x) for x in range(0, 101)])\n",
    "e_prim3_reverted = sum([esum(x) for x in range(100, -1, -1)])\n",
    "\n",
    "print(\"1\", \"Błąd Bezwzględny: \", sep='\\n', end = '')\n",
    "print(abs(e_prim1 - e))\n",
    "print(\"Błąd Względny: \", abs((e_prim1-e)/e)*100, '%\\n', sep='')\n",
    "\n",
    "print(\"1 odwrócone\", \"Błąd Bezwzględny: \", sep='\\n', end = '')\n",
    "print(abs(e_prim1_reverted - e))\n",
    "print(\"Błąd Względny: \", abs((e_prim1_reverted-e)/e)*100, '%\\n', sep='')\n",
    "\n",
    "print(\"2\", \"Błąd Bezwzględny: \", sep='\\n', end = '')\n",
    "print(abs(e_prim2 - e))\n",
    "print(\"Błąd Względny: \", abs((e_prim2-e)/e)*100, '%\\n', sep='')\n",
    "\n",
    "print(\"2 odwrócone\", \"Błąd Bezwzględny: \", sep='\\n', end = '')\n",
    "print(abs(e_prim2_reverted - e))\n",
    "print(\"Błąd Względny: \", abs((e_prim2_reverted-e)/e)*100, '%\\n', sep='')\n",
    "\n",
    "print(\"3\", \"Błąd Bezwzględny: \", sep='\\n', end = '')\n",
    "print(abs(e_prim3 - e))\n",
    "print(\"Błąd Względny: \", abs((e_prim3-e)/e)*100, '%\\n', sep='')\n",
    "\n",
    "print(\"3 odwrócone\", \"Błąd Bezwzględny: \", sep='\\n', end = '')\n",
    "print(abs(e_prim3_reverted - e))\n",
    "print(\"Błąd Względny: \", abs((e_prim3_reverted-e)/e)*100, '%\\n', sep='')\n",
    "\n"
   ]
  },
  {
   "cell_type": "markdown",
   "metadata": {},
   "source": [
    "Widzimy, że odwracająć kolejność sumowania wyrazów w ciągu otrzymujemy dokładniejsze wyniki"
   ]
  },
  {
   "cell_type": "markdown",
   "metadata": {},
   "source": [
    "### Zadanie 4"
   ]
  },
  {
   "cell_type": "raw",
   "metadata": {},
   "source": [
    "a = 1.0\n",
    "b = ??\n",
    "print(a+b-a-b)"
   ]
  },
  {
   "cell_type": "code",
   "execution_count": 90,
   "metadata": {},
   "outputs": [
    {
     "name": "stdout",
     "output_type": "stream",
     "text": [
      "0.0\n",
      "-1.1102230246251565e-16\n"
     ]
    }
   ],
   "source": [
    "a = 1.0\n",
    "b = 1/2**52\n",
    "print(a+b-a-b)\n",
    "\n",
    "a = 1.0\n",
    "b = 1/2**53\n",
    "print(a+b-a-b)"
   ]
  },
  {
   "cell_type": "markdown",
   "metadata": {},
   "source": [
    "Mantysa przy kodowaniu liczb w pythonie składa się z 53 bitów dlatego najmniejszą dodatnią liczbą możliwą do dokładnego zapisania jest 1/2^52 czyli mantysa będzie składała się z 52 zer i jedynki na końcu"
   ]
  },
  {
   "cell_type": "markdown",
   "metadata": {},
   "source": [
    "### Zadanie 5"
   ]
  },
  {
   "cell_type": "code",
   "execution_count": 102,
   "metadata": {},
   "outputs": [
    {
     "name": "stdout",
     "output_type": "stream",
     "text": [
      "9.549263336960934e-06\n",
      "0.0\n"
     ]
    }
   ],
   "source": [
    "pi = math.sqrt(6*sum([1/x**2 for x in range(1,100001)]))\n",
    "inf_pi = math.sqrt(6*nsum(lambda x: 1/x**2, [1, inf]))\n",
    "print(math.pi - pi, math.pi - inf_pi, sep = '\\n')"
   ]
  },
  {
   "cell_type": "markdown",
   "metadata": {},
   "source": [
    "Mamy tutaj do czynienia z błędem obcięcia oraz błędami reprezentacji. Obliczamy tylko część wyrazów nieskończonej sumy a wyrazy takie jak 1/10 nie są reprezentowane dokładnie."
   ]
  }
 ],
 "metadata": {
  "kernelspec": {
   "display_name": "Python 3",
   "language": "python",
   "name": "python3"
  },
  "language_info": {
   "codemirror_mode": {
    "name": "ipython",
    "version": 3
   },
   "file_extension": ".py",
   "mimetype": "text/x-python",
   "name": "python",
   "nbconvert_exporter": "python",
   "pygments_lexer": "ipython3",
   "version": "3.6.5"
  }
 },
 "nbformat": 4,
 "nbformat_minor": 2
}
