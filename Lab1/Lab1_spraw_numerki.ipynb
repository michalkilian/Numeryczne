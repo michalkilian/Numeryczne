{
 "cells": [
  {
   "cell_type": "markdown",
   "metadata": {},
   "source": [
    "## Sprawozadnie z Lab 1\n"
   ]
  },
  {
   "cell_type": "markdown",
   "metadata": {},
   "source": [
    "#### Autor: Michał Kilian"
   ]
  },
  {
   "cell_type": "markdown",
   "metadata": {},
   "source": [
    "### Zadanie 1"
   ]
  },
  {
   "cell_type": "markdown",
   "metadata": {},
   "source": [
    "<a id='zad1'></a>\n",
    "  \n",
    "Oblicz wyrażenia:\n",
    "  \n",
    "$k = 1240\\cdot\\sqrt{7}$  \n",
    "$m = 4467$  \n",
    "$l = 2j$  \n",
    "$d = k+m$  \n",
    "$c = d+l$  \n",
    "  \n",
    "Po wykonaniu obliczeń sprawdź typy danych utworzonych zmiennych w *Variable explorer*. \n",
    "  \n",
    "***Wskazówka:*** Do wykonania zawansowanych funkcji w języku Python należy używać bibliotek/pakietów. Dla przykładu: jeżeli chcemy skorzystać z funkcji pierwiastkowania musimy zaimportować pakiet *[math](https://docs.python.org/3/library/math.html)*:"
   ]
  },
  {
   "cell_type": "code",
   "execution_count": 2,
   "metadata": {},
   "outputs": [],
   "source": [
    "import math"
   ]
  },
  {
   "cell_type": "code",
   "execution_count": 3,
   "metadata": {},
   "outputs": [],
   "source": [
    "k = 1240 * math.sqrt(7)\n",
    "m = 4467\n",
    "l = 2j\n",
    "d = k + m\n",
    "c = d + l"
   ]
  },
  {
   "cell_type": "code",
   "execution_count": 4,
   "metadata": {},
   "outputs": [
    {
     "name": "stdout",
     "output_type": "stream",
     "text": [
      "3280.7316257200923\n",
      "4467\n",
      "2j\n",
      "7747.731625720093\n",
      "(7747.731625720093+2j)\n"
     ]
    }
   ],
   "source": [
    "print(k, m, l, d, c, sep='\\n')"
   ]
  },
  {
   "cell_type": "code",
   "execution_count": 5,
   "metadata": {},
   "outputs": [
    {
     "name": "stdout",
     "output_type": "stream",
     "text": [
      "<class 'float'>\n",
      "<class 'int'>\n",
      "<class 'complex'>\n",
      "<class 'float'>\n",
      "<class 'complex'>\n"
     ]
    }
   ],
   "source": [
    "print(type(k), type(m), type(l), type(d), type(c), sep='\\n')"
   ]
  },
  {
   "cell_type": "markdown",
   "metadata": {},
   "source": [
    "### Zadanie 2"
   ]
  },
  {
   "cell_type": "markdown",
   "metadata": {},
   "source": [
    "Przy pomocy instrukcji *[print](https://docs.python.org/3/tutorial/inputoutput.html)* wyświetl wynik zmiennej $d$ z [zadania 1](#zad1) z dokładnością domyślną, do trzech miejsc po przecinku oraz do dwudziestu miejsc po przecinku."
   ]
  },
  {
   "cell_type": "code",
   "execution_count": 6,
   "metadata": {},
   "outputs": [
    {
     "name": "stdout",
     "output_type": "stream",
     "text": [
      "7747.731625720093\n",
      "7747.732\n",
      "7747.73162572009277937468\n"
     ]
    }
   ],
   "source": [
    "print(d)\n",
    "print(\"{0:.3f}\".format(d))\n",
    "print(\"{0:.20f}\".format(d))"
   ]
  },
  {
   "cell_type": "markdown",
   "metadata": {},
   "source": [
    "### Zadanie 3"
   ]
  },
  {
   "cell_type": "markdown",
   "metadata": {},
   "source": [
    "\n",
    "Używając Pythona oblicz pole powierzchni $S$ walca o promieniu podstawy $r = 17$ i wysokości $h = 33$. Stała $\\pi$ jest zdefiniowana w bibliotece *[math](https://docs.python.org/3/library/math.html#constants)*."
   ]
  },
  {
   "cell_type": "code",
   "execution_count": 7,
   "metadata": {},
   "outputs": [],
   "source": [
    "r = 17\n",
    "h = 33"
   ]
  },
  {
   "cell_type": "code",
   "execution_count": 8,
   "metadata": {},
   "outputs": [],
   "source": [
    "#Obliczamy pole powierzchnni walca dodając dwie powierzchnie podstaw i powierzchnię boczną"
   ]
  },
  {
   "cell_type": "code",
   "execution_count": 9,
   "metadata": {},
   "outputs": [],
   "source": [
    "S = 2 * math.pi * (r**2) + 2 * math.pi * r * h"
   ]
  },
  {
   "cell_type": "code",
   "execution_count": 10,
   "metadata": {},
   "outputs": [
    {
     "data": {
      "text/plain": [
       "5340.707511102648"
      ]
     },
     "execution_count": 10,
     "metadata": {},
     "output_type": "execute_result"
    }
   ],
   "source": [
    "S"
   ]
  },
  {
   "cell_type": "markdown",
   "metadata": {},
   "source": [
    "### Zadanie 4"
   ]
  },
  {
   "cell_type": "code",
   "execution_count": 11,
   "metadata": {},
   "outputs": [],
   "source": [
    "#Komentarz jednoliniowy"
   ]
  },
  {
   "cell_type": "code",
   "execution_count": 12,
   "metadata": {},
   "outputs": [
    {
     "data": {
      "text/plain": [
       "'\\nKomentarz \\nwieloliniowy\\n'"
      ]
     },
     "execution_count": 12,
     "metadata": {},
     "output_type": "execute_result"
    }
   ],
   "source": [
    "\"\"\"\n",
    "Komentarz \n",
    "wieloliniowy\n",
    "\"\"\""
   ]
  },
  {
   "cell_type": "markdown",
   "metadata": {},
   "source": [
    "### Zadanie 5"
   ]
  },
  {
   "cell_type": "markdown",
   "metadata": {},
   "source": [
    "Dla dowolnych zmiennych $x_{1},t,r$ oblicz wartość wyrażenia:\n",
    "  \n",
    "$B = \\cfrac{x_{1}+r}{r\\cdot\\sin(2\\cdot x_{1})+3.3456}\\cdot x_{1}^{t\\cdot r}$,  \n",
    "  \n",
    "Wypisz wynik używając funkcji *print*. "
   ]
  },
  {
   "cell_type": "code",
   "execution_count": 13,
   "metadata": {},
   "outputs": [],
   "source": [
    "import random"
   ]
  },
  {
   "cell_type": "code",
   "execution_count": 14,
   "metadata": {},
   "outputs": [],
   "source": [
    "#losujemy warości zmiennych symulując dowolność "
   ]
  },
  {
   "cell_type": "code",
   "execution_count": 15,
   "metadata": {},
   "outputs": [
    {
     "name": "stdout",
     "output_type": "stream",
     "text": [
      "2 8 53\n"
     ]
    }
   ],
   "source": [
    "x1 = random.randint(0,100)\n",
    "r = random.randint(0,100)\n",
    "t = random.randint(0,100)\n",
    "\n",
    "print(x1, r, t)"
   ]
  },
  {
   "cell_type": "code",
   "execution_count": 16,
   "metadata": {},
   "outputs": [
    {
     "name": "stdout",
     "output_type": "stream",
     "text": [
      "-129360969220506.81\n"
     ]
    }
   ],
   "source": [
    "B = (x1 + r) / (r * math.sin(2 * x1) + 3.33456) * x1**(t-r)\n",
    "print(B)"
   ]
  },
  {
   "cell_type": "markdown",
   "metadata": {},
   "source": [
    "### Zadanie 6"
   ]
  },
  {
   "cell_type": "markdown",
   "metadata": {},
   "source": [
    "Zadeklaruj macierz:  \n",
    "  \n",
    "$\\mathbf{M} =\\left[ \\begin{matrix}\n",
    "a & 1 & -a\\\\\n",
    "0 & 1 & 1\\\\\n",
    "-a & a & 1\n",
    "\\end{matrix}\\right]\n",
    "$    \n",
    "  \n",
    "dla $a = \\sqrt{2}$.  \n",
    "   \n",
    "Dla zadeklarowanej macierzy wyznacz numerycznie macierz odwrotną $\\mathbf{M}^{-1}$, macierz transponowaną $\\mathbf{M}^{\\textrm{T}}$ i wyznacznik macierzy $\\mathbf{M}$. Wypisz otrzymane wyniki. \n",
    "  \n",
    "***Wskazówki:*** Do tworzenia obiektów mających własności macierzy w języku Python używa się klasy *[array](https://docs.scipy.org/doc/numpy-1.15.1/reference/generated/numpy.array.html)* z pakietu *[numpy](http://www.numpy.org/)*. Przykładowe użycie:"
   ]
  },
  {
   "cell_type": "code",
   "execution_count": 17,
   "metadata": {},
   "outputs": [],
   "source": [
    "import numpy as np"
   ]
  },
  {
   "cell_type": "code",
   "execution_count": 18,
   "metadata": {},
   "outputs": [],
   "source": [
    "a = math.sqrt(2)\n",
    "M = np.array([[a, 1, -a],[0, 1, 1],[-a, a, 1]])\n",
    "MInv = np.linalg.inv(M)\n",
    "MDet = np.linalg.det(M)\n",
    "MTrans = np.transpose(M)"
   ]
  },
  {
   "cell_type": "code",
   "execution_count": 19,
   "metadata": {},
   "outputs": [
    {
     "name": "stdout",
     "output_type": "stream",
     "text": [
      "Macierz M\n",
      "\n",
      "[[ 1.41421356  1.         -1.41421356]\n",
      " [ 0.          1.          1.        ]\n",
      " [-1.41421356  1.41421356  1.        ]]\n",
      "\n",
      "Wyznacznik macierzy M\n",
      "\n",
      "-4.0\n",
      "\n",
      "Macierz odwrotna M^-1\n",
      "\n",
      "[[ 0.10355339  0.75       -0.60355339]\n",
      " [ 0.35355339  0.14644661  0.35355339]\n",
      " [-0.35355339  0.85355339 -0.35355339]]\n",
      "\n",
      "Macierz Transponowana MT\n",
      "\n",
      "[[ 1.41421356  0.         -1.41421356]\n",
      " [ 1.          1.          1.41421356]\n",
      " [-1.41421356  1.          1.        ]]\n"
     ]
    }
   ],
   "source": [
    "print(\"Macierz M\", M, \n",
    "      \"Wyznacznik macierzy M\", MDet,\n",
    "      \"Macierz odwrotna M^-1\", MInv,\n",
    "      \"Macierz Transponowana MT\", MTrans, sep=\"\\n\\n\")"
   ]
  },
  {
   "cell_type": "markdown",
   "metadata": {},
   "source": [
    "### Zadanie 7"
   ]
  },
  {
   "cell_type": "markdown",
   "metadata": {},
   "source": [
    " \n",
    "Wypisz przy pomocy funkcji *print* następujące elementy macierzy $\\mathbf{M}$: $\\mathbf{M}_{1,1},\\mathbf{M}_{3,3},\\mathbf{M}_{3,2}$. Zdefiniuj wektor $\\mathbf{w1}$, równy trzeciej kolumnie macierzy $\\mathbf{M}$ oraz wektor $\\mathbf{w2}$, który składa się z elementów drugiego wiersza tej macierzy.  \n",
    "  \n",
    "***Wskazówki:***\n",
    "Tablice z pakietu *numpy* są indeksowane od zera, a do każdego elementu można odwołać się poprzez jego indeks. Przykład użycia: \n"
   ]
  },
  {
   "cell_type": "code",
   "execution_count": 20,
   "metadata": {},
   "outputs": [
    {
     "name": "stdout",
     "output_type": "stream",
     "text": [
      "1.4142135623730951 1.0 1.4142135623730951\n"
     ]
    }
   ],
   "source": [
    "print(M[0, 0], M[2, 2], M[2, 1])"
   ]
  },
  {
   "cell_type": "code",
   "execution_count": 21,
   "metadata": {},
   "outputs": [],
   "source": [
    "w1 = M[2, :]\n",
    "w2 = M[:, 1]"
   ]
  },
  {
   "cell_type": "code",
   "execution_count": 22,
   "metadata": {},
   "outputs": [
    {
     "name": "stdout",
     "output_type": "stream",
     "text": [
      "[-1.41421356  1.41421356  1.        ]\n",
      "[1.         1.         1.41421356]\n"
     ]
    }
   ],
   "source": [
    "print(w1, w2, sep='\\n')"
   ]
  },
  {
   "cell_type": "markdown",
   "metadata": {},
   "source": [
    "### Zadanie 8"
   ]
  },
  {
   "cell_type": "markdown",
   "metadata": {},
   "source": [
    "Przy użyciu funkcji *[roots](https://docs.scipy.org/doc/numpy/reference/generated/numpy.roots.html)* z pakietu *numpy* wyznacz numerycznie wszystkie pierwiastki wielomianu $W(x) = x^{5} − 7x^{4} + 3x^{3} + 43x^{2} − 28x − 60$. Sprawdź poprawność otrzymanych wyników."
   ]
  },
  {
   "cell_type": "code",
   "execution_count": 23,
   "metadata": {},
   "outputs": [],
   "source": [
    "Wx = [1, -7, 3, 43, -28, -60]\n",
    "roots = np.roots(Wx)"
   ]
  },
  {
   "cell_type": "code",
   "execution_count": 24,
   "metadata": {},
   "outputs": [
    {
     "name": "stdout",
     "output_type": "stream",
     "text": [
      "[ 5.  3.  2. -2. -1.]\n"
     ]
    }
   ],
   "source": [
    "print(roots)"
   ]
  },
  {
   "cell_type": "code",
   "execution_count": 25,
   "metadata": {},
   "outputs": [
    {
     "name": "stdout",
     "output_type": "stream",
     "text": [
      "0.0\n",
      "0.0\n",
      "0.0\n",
      "0.0\n",
      "0.0\n"
     ]
    }
   ],
   "source": [
    "print(np.polyval(Wx, 5.0), np.polyval(Wx, 3.0),np.polyval(Wx, 2.0),np.polyval(Wx, -2.0),np.polyval(Wx, -1.0), sep='\\n')"
   ]
  },
  {
   "cell_type": "code",
   "execution_count": 28,
   "metadata": {},
   "outputs": [
    {
     "name": "stdout",
     "output_type": "stream",
     "text": [
      "4.9999999999999964 -8.952838470577262e-13\n",
      "3.0 0.0\n",
      "1.9999999999999991 -2.842170943040401e-14\n",
      "-1.9999999999999993 9.237055564881302e-14\n",
      "-1.0000000000000002 1.4210854715202004e-14\n"
     ]
    }
   ],
   "source": [
    "for x in roots:\n",
    "    print(x, np.polyval(Wx, x))"
   ]
  },
  {
   "cell_type": "markdown",
   "metadata": {},
   "source": [
    "Co ciekawe, iterując bezpośrednio po pierwiastach otrzymanych w wyniku funkcji roots nie dostajemy dokładnie 0 ponieważ obliczone pierwiastki są niedokładne."
   ]
  },
  {
   "cell_type": "markdown",
   "metadata": {},
   "source": [
    "### Zadanie 9"
   ]
  },
  {
   "cell_type": "markdown",
   "metadata": {},
   "source": [
    "Wygeneruj dowolne ciągi arytmetyczne o kroku różnym od jeden i niebędącym liczbą całkowitą, używając w tym celu funkcji *[arange](https://docs.scipy.org/doc/numpy/reference/generated/numpy.arange.html)* oraz *[linspace](https://docs.scipy.org/doc/numpy-1.10.0/reference/generated/numpy.linspace.html)*. Przeanalizuj otrzymane rezultaty."
   ]
  },
  {
   "cell_type": "code",
   "execution_count": 131,
   "metadata": {
    "collapsed": true
   },
   "outputs": [],
   "source": [
    "series1 = np.arange(-10, -8, 0.1)\n",
    "series2 = np.linspace(-10, -8.1, len(series1), endpoint=True)"
   ]
  },
  {
   "cell_type": "code",
   "execution_count": 132,
   "metadata": {},
   "outputs": [
    {
     "name": "stdout",
     "output_type": "stream",
     "text": [
      "-10.00000000000000000000 -10.00000000000000000000\n",
      "-9.90000000000000035527 -9.90000000000000035527\n",
      "-9.80000000000000071054 -9.80000000000000071054\n",
      "-9.70000000000000106581 -9.69999999999999928946\n",
      "-9.60000000000000142109 -9.59999999999999964473\n",
      "-9.50000000000000177636 -9.50000000000000000000\n",
      "-9.40000000000000213163 -9.40000000000000035527\n",
      "-9.30000000000000248690 -9.30000000000000071054\n",
      "-9.20000000000000284217 -9.19999999999999928946\n",
      "-9.10000000000000319744 -9.09999999999999964473\n",
      "-9.00000000000000355271 -9.00000000000000000000\n",
      "-8.90000000000000390799 -8.90000000000000035527\n",
      "-8.80000000000000426326 -8.80000000000000071054\n",
      "-8.70000000000000461853 -8.69999999999999928946\n",
      "-8.60000000000000497380 -8.59999999999999964473\n",
      "-8.50000000000000532907 -8.50000000000000000000\n",
      "-8.40000000000000568434 -8.40000000000000035527\n",
      "-8.30000000000000603961 -8.29999999999999893419\n",
      "-8.20000000000000639488 -8.19999999999999928946\n",
      "-8.10000000000000675016 -8.09999999999999964473\n"
     ]
    }
   ],
   "source": [
    "for x,y in zip(series1, series2):\n",
    "    print(\"{0:.20f}\".format(x), \"{0:.20f}\".format(y))"
   ]
  },
  {
   "cell_type": "markdown",
   "metadata": {},
   "source": [
    "##### Rezultaty pokazują, że wyniki otrzymane przy użyciu tych funkcji nie są idealnie dokładne co wynika ze sposobu reprezentowania liczb niecałkowitych "
   ]
  },
  {
   "cell_type": "markdown",
   "metadata": {},
   "source": [
    "### Zadanie 10"
   ]
  },
  {
   "cell_type": "markdown",
   "metadata": {},
   "source": [
    "Zdefiniuj funkcję $f(x)= x^{3} - 3x$ i sporządz jej wykres dla argumentów z przedziału:  \n",
    "1. $x\\in<-1,1>$  \n",
    "2. $x\\in<-5,5>$\n",
    "3. $x\\in<0,5>$\n",
    "  \n",
    "***Wskazówki***\n",
    "Deklarację [funkcji](https://www.w3schools.com/python/python_functions.asp) w Pythonie przeprowadza się w następujący sposób:"
   ]
  },
  {
   "cell_type": "code",
   "execution_count": 38,
   "metadata": {},
   "outputs": [],
   "source": [
    "import matplotlib.pyplot as plt"
   ]
  },
  {
   "cell_type": "code",
   "execution_count": 39,
   "metadata": {},
   "outputs": [],
   "source": [
    "funkcja = lambda x: x**3 - 3*x"
   ]
  },
  {
   "cell_type": "code",
   "execution_count": 40,
   "metadata": {},
   "outputs": [
    {
     "data": {
      "image/png": "[encoded data removed]",
      "text/plain": [
       "<Figure size 432x288 with 1 Axes>"
      ]
     },
     "metadata": {},
     "output_type": "display_data"
    },
    {
     "data": {
      "image/png": "[encoded data removed]",
      "text/plain": [
       "<Figure size 432x288 with 1 Axes>"
      ]
     },
     "metadata": {},
     "output_type": "display_data"
    },
    {
     "data": {
      "image/png": "[encoded data removed]",
      "text/plain": [
       "<Figure size 432x288 with 1 Axes>"
      ]
     },
     "metadata": {},
     "output_type": "display_data"
    }
   ],
   "source": [
    "x1 = np.linspace(-1, 1)\n",
    "x2 = np.linspace(-5, 5)\n",
    "x3 = np.linspace(0, 5)\n",
    "y1 = [funkcja(i) for i in x1]\n",
    "y2 = [funkcja(i) for i in x2]\n",
    "y3 = [funkcja(i) for i in x3]\n",
    "\n",
    "\n",
    "plt.plot(x1, y1)\n",
    "plt.title('Wykres funkcji x^3 - 3x na przedziale <-1, 1>')\n",
    "plt.xlabel('x')\n",
    "plt.ylabel('f(x)')\n",
    "plt.legend('F(x)')\n",
    "plt.show()\n",
    "plt.plot(x2, y2)\n",
    "plt.title('Wykres funkcji x^3 - 3x na przedziale <-5, 5')\n",
    "plt.xlabel('x')\n",
    "plt.ylabel('f(x)')\n",
    "plt.legend('F(x)')\n",
    "plt.show()\n",
    "plt.plot(x3, y3)\n",
    "plt.title('Wykres funkcji x^3 - 3x na przedziale <0, 5>')\n",
    "plt.xlabel('x')\n",
    "plt.ylabel('f(x)')\n",
    "plt.legend('F(x)')\n",
    "plt.show()"
   ]
  },
  {
   "cell_type": "markdown",
   "metadata": {},
   "source": [
    "### Zadanie 11"
   ]
  },
  {
   "cell_type": "markdown",
   "metadata": {},
   "source": [
    "Oblicz ilość ciepła, które wydzieli się podczas hamowania, jeżeli opisuje je zależność:  \n",
    "  \n",
    "$Q = \\cfrac{mv^2}{2}$  \n",
    "  \n",
    "jeżeli $m = 2500\\textrm{g}$, $v = 60\\textrm{km}/\\textrm{h}$, wypisz wynik w kilokaloriach i dżulach. Narysuj wykresy, które zobrazują zależność ilości ciepła wydzielonego w procesie hamowania od prędkości dla ciała o masie $3000 \\textrm{g}$ i prędkości $v\\in \\left<200,0\\right>\\textrm{km}/\\textrm{h}$, przedstawiając ciepło hamowania na pierwszym w skali liniowej i na drugim w skali logarytmicznej.\n",
    "\n",
    "***Wskazówka:*** Do wygenerowania wykresu z osią logarytmiczną skorzystaj z funkcji: [semilogy](https://matplotlib.org/api/_as_gen/matplotlib.pyplot.semilogy.html), [xlim](https://matplotlib.org/api/_as_gen/matplotlib.pyplot.xlim.html?highlight=xlim#matplotlib.pyplot.xlim) i [figure](https://matplotlib.org/api/_as_gen/matplotlib.pyplot.figure.html?highlight=figure#matplotlib.pyplot.figure) z pakietu *Matplotlib*. "
   ]
  },
  {
   "cell_type": "code",
   "execution_count": 41,
   "metadata": {},
   "outputs": [],
   "source": [
    "Q = lambda m,v: m*v**2/2"
   ]
  },
  {
   "cell_type": "code",
   "execution_count": 42,
   "metadata": {},
   "outputs": [
    {
     "data": {
      "text/plain": [
       "4500.0"
      ]
     },
     "execution_count": 42,
     "metadata": {},
     "output_type": "execute_result"
    }
   ],
   "source": [
    "Q(2.5, 60)"
   ]
  },
  {
   "cell_type": "code",
   "execution_count": 43,
   "metadata": {},
   "outputs": [],
   "source": [
    "#1 J = 0,238846 cal\n",
    "kcal = 0.00023846"
   ]
  },
  {
   "cell_type": "code",
   "execution_count": 44,
   "metadata": {},
   "outputs": [
    {
     "name": "stdout",
     "output_type": "stream",
     "text": [
      "1.07307\n"
     ]
    }
   ],
   "source": [
    "print(Q(2.5, 60)*kcal)"
   ]
  },
  {
   "cell_type": "code",
   "execution_count": 45,
   "metadata": {},
   "outputs": [],
   "source": [
    "x1 = np.linspace(200,0)\n",
    "y1 = [Q(3, 200) -Q(3, x) for x in x1]"
   ]
  },
  {
   "cell_type": "code",
   "execution_count": 46,
   "metadata": {},
   "outputs": [
    {
     "data": {
      "image/png": "[encoded data removed]",
      "text/plain": [
       "<Figure size 432x288 with 1 Axes>"
      ]
     },
     "metadata": {},
     "output_type": "display_data"
    }
   ],
   "source": [
    "plt.plot(x1, y1)\n",
    "plt.xlim(200,0)\n",
    "plt.title(\"\"\"Zależność wytworzonego ciepła od prędkości\n",
    "podczas hamowania\"\"\")\n",
    "plt.xlabel('V[km/h]')\n",
    "plt.ylabel('Q[J]')\n",
    "plt.legend('Q(x)')\n",
    "plt.show()"
   ]
  },
  {
   "cell_type": "code",
   "execution_count": 59,
   "metadata": {},
   "outputs": [
    {
     "name": "stderr",
     "output_type": "stream",
     "text": [
      "C:\\Users\\test\\Anaconda3\\lib\\site-packages\\matplotlib\\axes\\_base.py:3449: UserWarning: Attempted to set non-positive ylimits for log-scale axis; invalid limits will be ignored.\n",
      "  'Attempted to set non-positive ylimits for log-scale axis; '\n"
     ]
    },
    {
     "data": {
      "image/png": "[encoded data removed]",
      "text/plain": [
       "<Figure size 432x288 with 1 Axes>"
      ]
     },
     "metadata": {},
     "output_type": "display_data"
    }
   ],
   "source": [
    "plt.semilogy(x1, y1)\n",
    "plt.xlim(200,0)\n",
    "plt.ylim(0,100000)\n",
    "plt.xlabel('V[km/h]')\n",
    "plt.ylabel('Q[J]')\n",
    "plt.legend('Q(x)')\n",
    "plt.title(\"\"\"Zależność wytworzonego ciepła od prędkości \n",
    "podczas hamowania na skali logarytmicznej\"\"\")\n",
    "plt.show()"
   ]
  },
  {
   "cell_type": "code",
   "execution_count": null,
   "metadata": {},
   "outputs": [],
   "source": []
  }
 ],
 "metadata": {
  "kernelspec": {
   "display_name": "Python 3",
   "language": "python",
   "name": "python3"
  },
  "language_info": {
   "codemirror_mode": {
    "name": "ipython",
    "version": 3
   },
   "file_extension": ".py",
   "mimetype": "text/x-python",
   "name": "python",
   "nbconvert_exporter": "python",
   "pygments_lexer": "ipython3",
   "version": "3.6.5"
  }
 },
 "nbformat": 4,
 "nbformat_minor": 2
}
