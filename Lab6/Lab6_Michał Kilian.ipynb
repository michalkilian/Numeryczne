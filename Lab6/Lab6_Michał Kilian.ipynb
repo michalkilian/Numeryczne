{
 "cells": [
  {
   "cell_type": "markdown",
   "metadata": {},
   "source": [
    "## Laboratoria 6"
   ]
  },
  {
   "cell_type": "code",
   "execution_count": 3,
   "metadata": {},
   "outputs": [],
   "source": [
    "import math\n",
    "from scipy.integrate import romberg, quad\n",
    "from scipy.stats import norm\n",
    "from scipy.optimize import newton\n",
    "from scipy.misc import derivative\n",
    "import numpy as np\n",
    "from scipy import interpolate\n",
    "import matplotlib.pyplot as plt\n",
    "import sympy as sym"
   ]
  },
  {
   "cell_type": "markdown",
   "metadata": {},
   "source": [
    "### Zadanie 1"
   ]
  },
  {
   "cell_type": "code",
   "execution_count": 4,
   "metadata": {},
   "outputs": [],
   "source": [
    "f = lambda x: math.e**(-2*x)"
   ]
  },
  {
   "cell_type": "markdown",
   "metadata": {},
   "source": [
    "#### 1 - metoda analityczna"
   ]
  },
  {
   "cell_type": "markdown",
   "metadata": {},
   "source": [
    "$\\int_{0}^{1}e^{-2x}dx = -(0.5)*e^{-2} + 2*e^0 = -(0.5)*e^{-2} + 2 \\approx 0.4323$"
   ]
  },
  {
   "cell_type": "markdown",
   "metadata": {},
   "source": [
    "#### 2 - metoda prostokątów"
   ]
  },
  {
   "cell_type": "code",
   "execution_count": 5,
   "metadata": {},
   "outputs": [
    {
     "data": {
      "text/plain": [
       "0.36787944117144233"
      ]
     },
     "execution_count": 5,
     "metadata": {},
     "output_type": "execute_result"
    }
   ],
   "source": [
    "def simple_rectangle_int(f, a, b):\n",
    "    return (b-a)*(f((a+b)/2))\n",
    "\n",
    "simple_rectangle_int(f, 0, 1)"
   ]
  },
  {
   "cell_type": "markdown",
   "metadata": {},
   "source": [
    "#### 3 - prosty wzór trapezów"
   ]
  },
  {
   "cell_type": "code",
   "execution_count": 6,
   "metadata": {},
   "outputs": [
    {
     "data": {
      "text/plain": [
       "0.5676676416183064"
      ]
     },
     "execution_count": 6,
     "metadata": {},
     "output_type": "execute_result"
    }
   ],
   "source": [
    "def simple_trapeze_int(f, a, b):\n",
    "    return (0.5*(b-a)*(f(a) + f(b)))\n",
    "\n",
    "simple_trapeze_int(f, 0, 1)"
   ]
  },
  {
   "cell_type": "markdown",
   "metadata": {},
   "source": [
    "#### 4 - prosty wzór Simpsona"
   ]
  },
  {
   "cell_type": "code",
   "execution_count": 7,
   "metadata": {},
   "outputs": [
    {
     "data": {
      "text/plain": [
       "0.4344755079870637"
      ]
     },
     "execution_count": 7,
     "metadata": {},
     "output_type": "execute_result"
    }
   ],
   "source": [
    "def simple_simpson(f, a, b):\n",
    "    return (1/6*(b-a)*(f(a) + 4*f((a+b)/2) + f(b)))\n",
    "\n",
    "simple_simpson(f, 0, 1)"
   ]
  },
  {
   "cell_type": "markdown",
   "metadata": {},
   "source": [
    "#### 5 - złożony wzór trapezów"
   ]
  },
  {
   "cell_type": "code",
   "execution_count": 8,
   "metadata": {},
   "outputs": [
    {
     "data": {
      "text/plain": [
       "0.43377250641846693"
      ]
     },
     "execution_count": 8,
     "metadata": {},
     "output_type": "execute_result"
    }
   ],
   "source": [
    "def complex_trapeze_int(f, a, b, n):\n",
    "    result = 0\n",
    "    x = np.linspace(a, b, n+1, endpoint=True)\n",
    "    a = x[0]\n",
    "    for i in range(len(x)-1):\n",
    "        b = x[i+1]\n",
    "        result += (0.5*(b-a)*(f(a)+f(b)))\n",
    "        a = b\n",
    "    return result\n",
    "\n",
    "complex_trapeze_int(f, 0, 1, 10)"
   ]
  },
  {
   "cell_type": "markdown",
   "metadata": {},
   "source": [
    "#### 6 - złożony wzór Simpsona"
   ]
  },
  {
   "cell_type": "code",
   "execution_count": 9,
   "metadata": {},
   "outputs": [
    {
     "data": {
      "text/plain": [
       "0.43233259828070303"
      ]
     },
     "execution_count": 9,
     "metadata": {},
     "output_type": "execute_result"
    }
   ],
   "source": [
    "def complex_simpson(f, a, b, n):\n",
    "    result = 0\n",
    "    x = np.linspace(a, b, n+1, endpoint=True)\n",
    "    a = x[0]\n",
    "    for i in range(len(x)-1):\n",
    "        b =x[i+1]\n",
    "        result += 1/6*(b-a)*(f(a) + 4*f((a+b)/2) + f(b))\n",
    "        a = b\n",
    "    return result\n",
    "\n",
    "complex_simpson(f, 0, 1, 10)"
   ]
  },
  {
   "cell_type": "markdown",
   "metadata": {},
   "source": [
    "#### 7 - metoda Romberga"
   ]
  },
  {
   "cell_type": "code",
   "execution_count": 10,
   "metadata": {},
   "outputs": [
    {
     "data": {
      "text/plain": [
       "0.43233235838943557"
      ]
     },
     "execution_count": 10,
     "metadata": {},
     "output_type": "execute_result"
    }
   ],
   "source": [
    "romberg(f, 0, 1, tol=10**-6)"
   ]
  },
  {
   "cell_type": "markdown",
   "metadata": {},
   "source": [
    "#### 8 - scipy.integrate.quad"
   ]
  },
  {
   "cell_type": "code",
   "execution_count": 11,
   "metadata": {},
   "outputs": [
    {
     "data": {
      "text/plain": [
       "(0.4323323583816936, 4.79985338565851e-15)"
      ]
     },
     "execution_count": 11,
     "metadata": {},
     "output_type": "execute_result"
    }
   ],
   "source": [
    "quad(f, 0, 1)"
   ]
  },
  {
   "cell_type": "markdown",
   "metadata": {},
   "source": [
    "Wyniki otrzymane korzystając z metod 6-8 są podobne do siebie i najbardziej zbliżone do wartości obliczonej analitycznie. Stosunkowo blisko wartości analitycznje są rezultaty metod 4 i 5 natomiast wyniki prostego wzoru trapezów i metody prostokątów są niedokładne."
   ]
  },
  {
   "cell_type": "markdown",
   "metadata": {},
   "source": [
    "### Zadanie 2"
   ]
  },
  {
   "cell_type": "code",
   "execution_count": 12,
   "metadata": {},
   "outputs": [
    {
     "name": "stdout",
     "output_type": "stream",
     "text": [
      "Wartość referencyjna: 1.6448536265523015\n",
      "Wartość ze wzoru trapezów: 1.6485764168024826\n",
      "Wartość ze wzoru Simpsona: 1.6448535054543454\n"
     ]
    }
   ],
   "source": [
    "f2 = lambda t: 1/(math.sqrt(2*math.pi))*math.e**(-(t**2)/2)\n",
    "\n",
    "ref = newton(lambda x: norm.cdf(x) - 0.95, 0.5, tol=10**-5)\n",
    "\n",
    "trapeze = newton(lambda x: complex_trapeze_int(f2, 0, x, 10) - 0.45, 0.5, fprime=f2, tol=10**-5) #jako pochodną podajemy funkcję pod całką aby użyć metody stycznych a nie siecznych\n",
    "\n",
    "simpson = newton(lambda x: complex_simpson(f2, 0, x, 10) - 0.45, 0.5, fprime=f2, tol=10**-5) #jako pochodną podajemy funkcję pod całką aby użyć metody stycznych a nie siecznych\n",
    "print(\"\"\"Wartość referencyjna: {}\n",
    "Wartość ze wzoru trapezów: {}\n",
    "Wartość ze wzoru Simpsona: {}\"\"\".format(ref, trapeze, simpson))\n"
   ]
  },
  {
   "cell_type": "markdown",
   "metadata": {},
   "source": [
    "Wartości obliczone przy użyciu złożonego wzoru trapezów i złożonego wzoru Simpsona są bardzo bliskie wartości referencyjnej."
   ]
  },
  {
   "cell_type": "markdown",
   "metadata": {},
   "source": [
    "### Zadanie 3"
   ]
  },
  {
   "cell_type": "code",
   "execution_count": 75,
   "metadata": {},
   "outputs": [
    {
     "name": "stdout",
     "output_type": "stream",
     "text": [
      "\n",
      "Droga hamowania pojazdu wyniosła: 6.8249999822308585 m\n",
      "Średnia prędkość samochodu w czasie t=[0,0.5]: 5.4750000000000005 m/s\n"
     ]
    }
   ],
   "source": [
    "times = [0., 0.5, 1., 2., 3., 4.]\n",
    "accs = [-4.5, -4.5, -2.3, -1., -0.5, 0.]\n",
    "\n",
    "acc_function = interpolate.interp1d(times, accs)\n",
    "\n",
    "vel_function = lambda t: quad(acc_function, 0, t)[0]\n",
    "v0 = vel_function(4) #tyle ogólnie zwolnił - w 4s jego prędkość wyniosła zero więc należy to dodać jako prędkość początkową\n",
    "vel_function = lambda t: -v0 + quad(acc_function, 0, t)[0]\n",
    "vel_function(0)\n",
    "\n",
    "dist_function = lambda t: quad(vel_function, 0, t)[0]\n",
    "s = dist_function(4)\n",
    "v_avg = dist_function(0.5)/0.5\n",
    "\n",
    "print(\"\"\"\n",
    "Droga hamowania pojazdu wyniosła: {} m\n",
    "Średnia prędkość samochodu w czasie t=[0,0.5]: {} m/s\"\"\".format(s, v_avg))"
   ]
  },
  {
   "cell_type": "markdown",
   "metadata": {},
   "source": [
    "### Zadanie 4"
   ]
  },
  {
   "cell_type": "code",
   "execution_count": 139,
   "metadata": {},
   "outputs": [
    {
     "name": "stdout",
     "output_type": "stream",
     "text": [
      "Wartość z metody Romberga: 15.825159885482952\n",
      "Wartość ze wzoru trapezów: 11.084984534623379\n",
      "Wartość ze wzoru Simpsona: 11.084984534623391\n"
     ]
    }
   ],
   "source": [
    "#f4 = lambda x, A, T: A*(math.sin(2*math.pi*(x/T)))\n",
    "\n",
    "A = 0.1\n",
    "T = 0.2\n",
    "lenght = 4.8\n",
    "#f4 = lambda x: A*math.sin(2*math.pi*(x/T))\n",
    "#f4_derivative = lambda x: 2*math.pi/T*A*math.cos(2*math.pi*(x/T))\n",
    "int_function = lambda x: math.sqrt(1 + (2*math.pi/T*A*math.cos(2*math.pi*(x/T)))**2) \n",
    "\n",
    "trapeze = complex_trapeze_int(int_function, 0, lenght, 10)\n",
    "simpson = complex_simpson(int_function, 0, lenght, 10)\n",
    "romberg_ = romberg(int_function, 0, lenght, tol=10**-6)\n",
    "\n",
    "print(\"\"\"Wartość z metody Romberga: {}\n",
    "Wartość ze wzoru trapezów: {}\n",
    "Wartość ze wzoru Simpsona: {}\"\"\".format(romberg_, trapeze, simpson))\n",
    "\n",
    "\n",
    "\n"
   ]
  },
  {
   "cell_type": "markdown",
   "metadata": {},
   "source": [
    "Wynik otrzymany używając metody Romberga jest znacznie wyższy niż wyniki uzyskane ze wzorów trapezów oraz Simpsona. Wynik uzyskany przy użyciu kalkulatora wolfram alpha wynosi około 11.06 co sugeruje, że w tym wypadku metoda Romberga okazała się bardzo niedokładna."
   ]
  },
  {
   "cell_type": "code",
   "execution_count": 159,
   "metadata": {},
   "outputs": [
    {
     "data": {
      "image/png": "[encoded data removed]",
      "text/plain": [
       "<Figure size 864x576 with 1 Axes>"
      ]
     },
     "metadata": {},
     "output_type": "display_data"
    }
   ],
   "source": [
    "trapeze_results = [complex_trapeze_int(int_function, 0, lenght, i) for i in range(1, 101)]\n",
    "simpson_results = [complex_simpson(int_function, 0, lenght, i) for i in range(1,101)]\n",
    "\n",
    "plt.figure(figsize=(12,8))\n",
    "plt.plot([i for i in range(1,101)], trapeze_results, 'b2', markersize=12,label=\"wzór trapezów\" )\n",
    "plt.plot([i for i in range(1,101)], simpson_results, 'r3', markersize=12,label=\"wzór Simpsona\")\n",
    "plt.legend()\n",
    "plt.xlabel(\"Ilość podprzedziałów\")\n",
    "plt.ylabel(\"Długość blachy [m]\")\n",
    "plt.grid()"
   ]
  },
  {
   "cell_type": "markdown",
   "metadata": {},
   "source": [
    "Dla obu wzorów, w większości przypadków otrzymujemy ten sam, bliski poprawnemu, wynik. Pojawiają się jednak rozbieżności, tym częściej, im mniej podprzedziałów użyliśmy. Dla wzoru trapezów wydają się one mniejsze niż dla wzoru Simpsona. "
   ]
  }
 ],
 "metadata": {
  "kernelspec": {
   "display_name": "Python 3",
   "language": "python",
   "name": "python3"
  },
  "language_info": {
   "codemirror_mode": {
    "name": "ipython",
    "version": 3
   },
   "file_extension": ".py",
   "mimetype": "text/x-python",
   "name": "python",
   "nbconvert_exporter": "python",
   "pygments_lexer": "ipython3",
   "version": "3.6.5"
  }
 },
 "nbformat": 4,
 "nbformat_minor": 2
}
